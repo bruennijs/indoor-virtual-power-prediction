{
 "cells": [
  {
   "cell_type": "markdown",
   "metadata": {
    "collapsed": true,
    "pycharm": {
     "name": "#%% md\n"
    }
   },
   "source": [
    "# Introduction\n",
    "The bike has 20 gears which are the cetagories/labels of the classification. Fetaures are cadence and speed with data of the trainings app. We train our model with data sets of all 20 gears (means 20 tcx files loaded with labeled oberservations).\n"
   ]
  },
  {
   "cell_type": "markdown",
   "metadata": {},
   "source": [
    "# Analyze\n",
    "Question: Which classification algorithm classifies the features cadence and speed good enough to classify a observation to its selected gear. Optimum is to find out with one observation and to have a high probability for only _one_ label?\n",
    "\n",
    "_Train data (app data):\n",
    "* X of app data set -> [cadence, speed]\n",
    "* Y -> [selected gear]\n",
    "\n",
    "## Pre processing\n"
   ]
  },
  {
   "cell_type": "code",
   "execution_count": 11,
   "metadata": {
    "pycharm": {
     "name": "#%%\n"
    }
   },
   "outputs": [],
   "source": [
    "import pandas as pd\n",
    "\n",
    "from src.tcx import Tcx, COLUMN_NAME_SPEED, COLUMN_NAME_WATTS, COLUMN_NAME_CADENCE\n",
    "from src.test_data import TrainDataSet\n",
    "\n",
    "tcx_app_gear7: Tcx = Tcx.read_tcx(file_path='test/tcx/cadence_1612535177298-gear7.tcx')\n",
    "tcx_app_gear20: Tcx = Tcx.read_tcx(file_path='test/tcx/cadence_1612535671464-gear20.tcx')\n",
    "tcx_tacx: Tcx = Tcx.read_tcx(file_path='test/tcx/tacx-activity_6225123072-gear7-resistance3.tcx')\n",
    "tcx_tacx_gear20: Tcx = Tcx.read_tcx(file_path='test/tcx/tacx-activity_6225123072-gear7-resistance3.tcx')\n",
    "\n",
    "# generate test data\n",
    "dts_gear7: TrainDataSet = TrainDataSet(tcx_app_gear7)\n",
    "dts_gear20: TrainDataSet = TrainDataSet(tcx_app_gear20)"
   ]
  },
  {
   "cell_type": "markdown",
   "metadata": {},
   "source": [
    "## Linear regression\n",
    "To find out we create a linear model from the tacx data with differetn features and calculate a score for each tacx cadence value to see whether the model predicts the velocity good enough.\n",
    "\n",
    "### Cadence\n",
    "_X_ = [cadence], _y_ = power"
   ]
  },
  {
   "cell_type": "code",
   "execution_count": 12,
   "outputs": [
    {
     "data": {
      "text/plain": "<Figure size 432x288 with 1 Axes>",
      "image/png": "[encoded data removed]"
     },
     "metadata": {
      "needs_background": "light"
     },
     "output_type": "display_data"
    }
   ],
   "source": [
    "from functools import reduce\n",
    "\n",
    "from sklearn.model_selection import train_test_split\n",
    "from sklearn.linear_model._base import LinearModel\n",
    "\n",
    "import matplotlib.pyplot as plt\n",
    "\n",
    "\n",
    "\n",
    "def plot(X_train: pd.DataFrame, y_train: pd.Series, point_color='black', legend_label='unknown') -> None:\n",
    "    # Plot X_train -> y_train\n",
    "    plt.scatter(X_train, y_train,  color=point_color, label=legend_label)\n",
    "    plt.title(\"{} = f({})\".format(y_train.name, reduce(lambda l, r: \"{}, {}\".format(l, r), X_train.columns)))\n",
    "    plt.xticks()\n",
    "    plt.yticks()\n",
    "\n",
    "\n",
    "# === gear 7\n",
    "X, y = dts_gear7.cadence_to_speed()\n",
    "plot(pd.DataFrame(y), X.iloc[:,0], legend_label='gear 7')\n",
    "X, y = dts_gear20.cadence_to_speed()\n",
    "plot(pd.DataFrame(y), X.iloc[:,0], point_color='green', legend_label='gear 20')\n",
    "\n",
    "plt.legend()\n",
    "plt.show()\n",
    "plt.close()"
   ],
   "metadata": {
    "collapsed": false,
    "pycharm": {
     "name": "#%%\n"
    }
   }
  },
  {
   "cell_type": "code",
   "execution_count": 12,
   "outputs": [],
   "source": [
    "\n",
    "\n",
    "\n",
    "\n",
    "\n"
   ],
   "metadata": {
    "collapsed": false,
    "pycharm": {
     "name": "#%%\n"
    }
   }
  }
 ],
 "metadata": {
  "kernelspec": {
   "display_name": "Python 3",
   "language": "python",
   "name": "python3"
  },
  "language_info": {
   "codemirror_mode": {
    "name": "ipython",
    "version": 3
   },
   "file_extension": ".py",
   "mimetype": "text/x-python",
   "name": "python",
   "nbconvert_exporter": "python",
   "pygments_lexer": "ipython3",
   "version": "3.7.5"
  }
 },
 "nbformat": 4,
 "nbformat_minor": 1
}