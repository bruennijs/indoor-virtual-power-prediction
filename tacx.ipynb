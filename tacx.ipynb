{
 "cells": [
  {
   "cell_type": "markdown",
   "metadata": {
    "collapsed": true,
    "pycharm": {
     "name": "#%% md\n"
    }
   },
   "source": [
    "# Introduction\n",
    "train and test data are measured with same roll resistance (lever position 3) and wheel pressure.\n"
   ]
  },
  {
   "cell_type": "markdown",
   "metadata": {},
   "source": [
    "# Analyze linearity of train vs test data\n",
    "Question: Is the velocity a good feature to predict the virtual power? To find out we create a linear/polynomial model or KNN regression model from the app data and calculate a score for each tacx cadence value to see whether the model predicts the velocity good enough.\n",
    "First let us see (plot) and calculate (relation of cadence/velocity is constant per gear)  the training data.\n",
    "\n",
    "_Train data (app data):\n",
    "* X of app data set -> cadence\n",
    "* Y -> velocity\n",
    "\n",
    "## Pre processing\n"
   ]
  },
  {
   "cell_type": "code",
   "execution_count": 271,
   "metadata": {
    "pycharm": {
     "name": "#%%\n"
    }
   },
   "outputs": [
    {
     "data": {
      "text/plain": "       DistanceMeters  DistanceMeters-delta                 Time-delta  \\\ncount      188.000000            187.000000                        187   \nmean       630.537784              7.165124  0 days 00:00:01.041647058   \nstd        392.070789              0.896864  0 days 00:00:00.006815031   \nmin          5.312400              5.102700     0 days 00:00:01.007000   \n25%        281.129063              6.640500     0 days 00:00:01.040000   \n50%        611.275500              7.304550     0 days 00:00:01.041000   \n75%        961.727888              7.793850     0 days 00:00:01.044000   \nmax       1345.190550              8.737500     0 days 00:00:01.073000   \n\n            Speed  Speed-per-cadence  \ncount  187.000000         187.000000  \nmean    24.765209           0.275846  \nstd      3.113125           0.019499  \nmin     17.663192           0.265494  \n25%     22.969182           0.273076  \n50%     25.260692           0.274223  \n75%     26.965729           0.275529  \nmax     30.303468           0.536816  ",
      "text/html": "<div>\n<style scoped>\n    .dataframe tbody tr th:only-of-type {\n        vertical-align: middle;\n    }\n\n    .dataframe tbody tr th {\n        vertical-align: top;\n    }\n\n    .dataframe thead th {\n        text-align: right;\n    }\n</style>\n<table border=\"1\" class=\"dataframe\">\n  <thead>\n    <tr style=\"text-align: right;\">\n      <th></th>\n      <th>DistanceMeters</th>\n      <th>DistanceMeters-delta</th>\n      <th>Time-delta</th>\n      <th>Speed</th>\n      <th>Speed-per-cadence</th>\n    </tr>\n  </thead>\n  <tbody>\n    <tr>\n      <th>count</th>\n      <td>188.000000</td>\n      <td>187.000000</td>\n      <td>187</td>\n      <td>187.000000</td>\n      <td>187.000000</td>\n    </tr>\n    <tr>\n      <th>mean</th>\n      <td>630.537784</td>\n      <td>7.165124</td>\n      <td>0 days 00:00:01.041647058</td>\n      <td>24.765209</td>\n      <td>0.275846</td>\n    </tr>\n    <tr>\n      <th>std</th>\n      <td>392.070789</td>\n      <td>0.896864</td>\n      <td>0 days 00:00:00.006815031</td>\n      <td>3.113125</td>\n      <td>0.019499</td>\n    </tr>\n    <tr>\n      <th>min</th>\n      <td>5.312400</td>\n      <td>5.102700</td>\n      <td>0 days 00:00:01.007000</td>\n      <td>17.663192</td>\n      <td>0.265494</td>\n    </tr>\n    <tr>\n      <th>25%</th>\n      <td>281.129063</td>\n      <td>6.640500</td>\n      <td>0 days 00:00:01.040000</td>\n      <td>22.969182</td>\n      <td>0.273076</td>\n    </tr>\n    <tr>\n      <th>50%</th>\n      <td>611.275500</td>\n      <td>7.304550</td>\n      <td>0 days 00:00:01.041000</td>\n      <td>25.260692</td>\n      <td>0.274223</td>\n    </tr>\n    <tr>\n      <th>75%</th>\n      <td>961.727888</td>\n      <td>7.793850</td>\n      <td>0 days 00:00:01.044000</td>\n      <td>26.965729</td>\n      <td>0.275529</td>\n    </tr>\n    <tr>\n      <th>max</th>\n      <td>1345.190550</td>\n      <td>8.737500</td>\n      <td>0 days 00:00:01.073000</td>\n      <td>30.303468</td>\n      <td>0.536816</td>\n    </tr>\n  </tbody>\n</table>\n</div>"
     },
     "execution_count": 271,
     "metadata": {},
     "output_type": "execute_result"
    }
   ],
   "source": [
    "import pandas as pd\n",
    "import numpy as np\n",
    "from src.tcx import read_tcx\n",
    "\n",
    "tcx: dict = read_tcx('test/tcx/cadence_1612535177298-gear7.tcx')\n",
    "\n",
    "\n",
    "trackpoints: dict = tcx['TrainingCenterDatabase']['Activities']['Activity']['Lap']['Track']\n",
    "trackpoint_dict_list = list(trackpoints.values())[0]\n",
    "\n",
    "tcx_df: pd.DataFrame = pd.DataFrame.from_records(trackpoint_dict_list)\n",
    "\n",
    "tcx_df['DistanceMeters'] = tcx_df['DistanceMeters'].apply(lambda x: float(x))\n",
    "tcx_df['DistanceMeters']\n",
    "\n",
    "# print(tcx_df['Extensions'])\n",
    "tcx_df['Ext.Watts'] = [extension_dict['TPX']['Watts'] for extension_dict in tcx_df['Extensions']]\n",
    "tcx_df['Ext.Speed'] = [extension_dict['TPX']['Speed'] for extension_dict in tcx_df['Extensions']]\n",
    "\n",
    "\n",
    "# Distance delta\n",
    "tcx_df['DistanceMeters-delta'] = pd.Series(\n",
    "    data=np.subtract(tcx_df['DistanceMeters'].iloc[1:].to_numpy(),tcx_df['DistanceMeters'].iloc[0:-1].to_numpy()),\n",
    "    index=range(1, len(tcx_df)))\n",
    "\n",
    "# Time delta\n",
    "## Time -> pd.Timestamp\n",
    "tcx_df['Time'] = tcx_df['Time'].apply(lambda t: pd.to_datetime(t))\n",
    "## Time[i+1] - Time[i] type = pd.Timedelta\n",
    "tcx_df['Time-delta'] = pd.Series(\n",
    "    data=np.subtract(tcx_df['Time'].iloc[1:].to_numpy(),tcx_df['Time'].iloc[0:-1].to_numpy()),\n",
    "    index=range(1, len(tcx_df)))\n",
    "\n",
    "## Speed [km/h] = distance [meter] / time-delta [second] * 3.6\n",
    "tcx_df['Speed'] = tcx_df['DistanceMeters-delta'] / tcx_df['Time-delta'].apply(lambda td: td.total_seconds()) * 3.6\n",
    "\n",
    "## speed / cadence\n",
    "tcx_df['Speed-per-cadence'] = tcx_df['Speed'] / tcx_df['Cadence'].apply(lambda x: float(x))\n",
    "\n",
    "tcx_df[['Speed', 'Cadence', 'Ext.Watts', 'DistanceMeters', 'DistanceMeters-delta', 'Ext.Speed', 'Time', 'Time-delta']].head(20)\n",
    "\n",
    "tcx_df.describe()\n",
    "\n",
    "# df = pd.json_normalize([{'activity': {'id': 'tacx 12.11.'}}, {'activity': {'id': 'olli'}}]);\n",
    "# df"
   ]
  },
  {
   "cell_type": "markdown",
   "metadata": {},
   "source": [
    "## Linear regression"
   ]
  }
 ],
 "metadata": {
  "kernelspec": {
   "display_name": "Python 3",
   "language": "python",
   "name": "python3"
  },
  "language_info": {
   "codemirror_mode": {
    "name": "ipython",
    "version": 3
   },
   "file_extension": ".py",
   "mimetype": "text/x-python",
   "name": "python",
   "nbconvert_exporter": "python",
   "pygments_lexer": "ipython3",
   "version": "3.7.5"
  }
 },
 "nbformat": 4,
 "nbformat_minor": 1
}