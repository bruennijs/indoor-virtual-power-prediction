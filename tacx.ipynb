{
 "cells": [
  {
   "cell_type": "markdown",
   "metadata": {
    "collapsed": true,
    "pycharm": {
     "name": "#%% md\n"
    }
   },
   "source": [
    "# Introduction\n",
    "train and test data are measured with same roll resistance (lever position 3) and wheel pressure.\n"
   ]
  },
  {
   "cell_type": "markdown",
   "metadata": {},
   "source": [
    "# Analyze\n",
    "Question: Which features and model is good enough to be predict virtual power?\n",
    "\n",
    "_Train data (app data):\n",
    "* X of app data set -> cadence\n",
    "* Y -> velocity\n",
    "\n",
    "## Pre processing\n"
   ]
  },
  {
   "cell_type": "code",
   "execution_count": 45,
   "metadata": {
    "pycharm": {
     "name": "#%%\n"
    }
   },
   "outputs": [
    {
     "name": "stdout",
     "output_type": "stream",
     "text": [
      "        Speed  Cadence  Ext.Watts  DistanceMeters  DistanceMeters-delta  \\\n",
      "0         NaN      0.0        0.0        0.000000                   NaN   \n",
      "1    0.000000      0.0        0.0        0.000000              0.000000   \n",
      "2    0.000000      0.0        0.0        0.000000              0.000000   \n",
      "3    1.044000     45.0       50.0        0.290000              0.290000   \n",
      "4    3.888000     63.0       71.0        1.370000              1.080000   \n",
      "5    5.940000     63.0       71.0        3.020000              1.650000   \n",
      "6    7.344000     31.0       52.0        5.060000              2.040000   \n",
      "7    8.352001     63.0       71.0        7.380000              2.320000   \n",
      "8    9.395999     65.0       71.0        9.990000              2.610000   \n",
      "9   10.440002     64.0       71.0       12.890000              2.900001   \n",
      "10  11.123997     64.0       71.0       15.980000              3.089999   \n",
      "11  12.096002     63.0       70.0       19.340000              3.360001   \n",
      "12  12.600000     63.0       70.0       22.840000              3.500000   \n",
      "13  13.355997     63.0       70.0       26.549999              3.709999   \n",
      "14   6.912000     64.0       71.0       28.469999              1.920000   \n",
      "15  21.419996     64.0       72.0       34.419998              5.949999   \n",
      "16  14.904012     66.0       73.0       38.560001              4.140003   \n",
      "17  15.443990     69.0       79.0       42.849998              4.289997   \n",
      "18  16.128012     68.0       78.0       47.330002              4.480003   \n",
      "19  16.163992     66.0       74.0       51.820000              4.489998   \n",
      "\n",
      "    Ext.Speed                      Time      Time-delta  \n",
      "0       0.000 2021-02-05 15:03:30+00:00             NaT  \n",
      "1       0.000 2021-02-05 15:03:31+00:00 0 days 00:00:01  \n",
      "2       0.000 2021-02-05 15:03:32+00:00 0 days 00:00:01  \n",
      "3       0.908 2021-02-05 15:03:33+00:00 0 days 00:00:01  \n",
      "4       1.532 2021-02-05 15:03:34+00:00 0 days 00:00:01  \n",
      "5       1.973 2021-02-05 15:03:35+00:00 0 days 00:00:01  \n",
      "6       2.234 2021-02-05 15:03:36+00:00 0 days 00:00:01  \n",
      "7       2.550 2021-02-05 15:03:37+00:00 0 days 00:00:01  \n",
      "8       2.823 2021-02-05 15:03:38+00:00 0 days 00:00:01  \n",
      "9       3.066 2021-02-05 15:03:39+00:00 0 days 00:00:01  \n",
      "10      3.282 2021-02-05 15:03:40+00:00 0 days 00:00:01  \n",
      "11      3.478 2021-02-05 15:03:41+00:00 0 days 00:00:01  \n",
      "12      3.655 2021-02-05 15:03:42+00:00 0 days 00:00:01  \n",
      "13      3.816 2021-02-05 15:03:43+00:00 0 days 00:00:01  \n",
      "14      3.894 2021-02-05 15:03:44+00:00 0 days 00:00:01  \n",
      "15      4.112 2021-02-05 15:03:45+00:00 0 days 00:00:01  \n",
      "16      4.249 2021-02-05 15:03:46+00:00 0 days 00:00:01  \n",
      "17      4.394 2021-02-05 15:03:47+00:00 0 days 00:00:01  \n",
      "18      4.523 2021-02-05 15:03:48+00:00 0 days 00:00:01  \n",
      "19      4.633 2021-02-05 15:03:49+00:00 0 days 00:00:01  \n",
      "       speed-per-cadence\n",
      "count         365.000000\n",
      "mean            0.290588\n",
      "std             0.034063\n",
      "min             0.023200\n",
      "25%             0.280441\n",
      "50%             0.293870\n",
      "75%             0.310666\n",
      "max             0.335039\n",
      "       speed-per-cadence\n",
      "count         187.000000\n",
      "mean            0.275846\n",
      "std             0.019499\n",
      "min             0.265494\n",
      "25%             0.273076\n",
      "50%             0.274223\n",
      "75%             0.275529\n",
      "max             0.536816\n"
     ]
    }
   ],
   "source": [
    "import pandas as pd\n",
    "from src.tcx import read_tcx, Tcx\n",
    "\n",
    "tcx_app: Tcx = read_tcx('test/tcx/cadence_1612535177298-gear7.tcx')\n",
    "tcx_tacx: Tcx = read_tcx('test/tcx/tacx-activity_6223854228-gear7-resistance3.tcx')\n",
    "\n",
    "tcx_train: pd.DataFrame = tcx_tacx.to_dataframe()\n",
    "tcx_test: pd.DataFrame = tcx_app.to_dataframe()\n",
    "\n",
    "\n",
    "print(tcx_train[['Speed', 'Cadence', 'Ext.Watts', 'DistanceMeters', 'DistanceMeters-delta', 'Ext.Speed', 'Time', 'Time-delta']].head(20))\n",
    "\n",
    "print(tcx_train[['speed-per-cadence']].describe())\n",
    "print(tcx_test[['speed-per-cadence']].describe())"
   ]
  },
  {
   "cell_type": "markdown",
   "metadata": {},
   "source": [
    "## Linear regression\n",
    "To find out we create a linear model from the tacx data with differetn features and calculate a score for each tacx cadence value to see whether the model predicts the velocity good enough.\n",
    "\n",
    "### Cadence\n",
    "_X_ = [cadence], _y_ = power"
   ]
  },
  {
   "cell_type": "code",
   "source": [
    "from sklearn.linear_model import LinearRegression\n",
    "from sklearn.model_selection import train_test_split\n",
    "from src.test_data import TrainDataSet\n",
    "from sklearn.model_selection import cross_val_score\n",
    "import numpy as np\n",
    "\n",
    "# generate test data\n",
    "X, y = TrainDataSet(tcx = tcx_tacx).cadence_to_power()\n",
    "X_train, X_test, y_train, y_test = train_test_split(X, y, train_size=0.8, random_state=0)\n"
   ],
   "metadata": {
    "collapsed": false,
    "pycharm": {
     "name": "#%%\n"
    }
   },
   "execution_count": 46,
   "outputs": []
  },
  {
   "cell_type": "code",
   "execution_count": 75,
   "outputs": [
    {
     "name": "stdout",
     "output_type": "stream",
     "text": [
      "Genauigkeit auf den Testdaten: 0.97\n",
      "Cross validation: [0.85243504 0.97957264 0.98834689 0.98603743 0.98787744]\n",
      "Max error: 29.518774001220862\n"
     ]
    }
   ],
   "source": [
    "from sklearn.metrics import max_error\n",
    "\n",
    "# train\n",
    "alg = LinearRegression().fit(X_train.to_numpy(), y_train.to_numpy())\n",
    "\n",
    "# test\n",
    "X_train_np = X_train.to_numpy()\n",
    "y_train_np = y_train.to_numpy()\n",
    "y_predicted = alg.predict(X_test.to_numpy())\n",
    "\n",
    "# Score on X_test\n",
    "print(\"Genauigkeit auf den Testdaten: {:.2f}\".format(alg.score(X_test.to_numpy(), y_test.to_numpy())))\n",
    "\n",
    "# cross k-fold validation (k=5)\n",
    "scores: list = cross_val_score(alg, X_test.to_numpy(), y_test.to_numpy(), cv=5)\n",
    "print(\"Cross validation: {}\".format(scores))\n",
    "\n",
    "# max error y_test <-> y_predict\n",
    "print(\"Max error: {}\".format(max_error(y_test, y_predicted)))"
   ],
   "metadata": {
    "collapsed": false,
    "pycharm": {
     "name": "#%%\n"
    }
   }
  },
  {
   "cell_type": "code",
   "execution_count": 47,
   "outputs": [],
   "source": [],
   "metadata": {
    "collapsed": false,
    "pycharm": {
     "name": "#%%\n"
    }
   }
  },
  {
   "cell_type": "code",
   "execution_count": 48,
   "outputs": [
    {
     "data": {
      "text/plain": "<Figure size 432x288 with 1 Axes>",
      "image/png": "[encoded data removed]"
     },
     "metadata": {},
     "output_type": "display_data"
    }
   ],
   "source": [
    "import matplotlib.pyplot as plt\n",
    "\n",
    "plt.scatter(X_train_np, y_train_np,  color='black')\n",
    "plt.plot(X_train_np, alg.predict(X_train_np), color='blue', linewidth=2)\n",
    "\n",
    "plt.xticks(())\n",
    "plt.yticks(())\n",
    "\n",
    "plt.show()\n"
   ],
   "metadata": {
    "collapsed": false,
    "pycharm": {
     "name": "#%%\n"
    }
   }
  }
 ],
 "metadata": {
  "kernelspec": {
   "display_name": "Python 3",
   "language": "python",
   "name": "python3"
  },
  "language_info": {
   "codemirror_mode": {
    "name": "ipython",
    "version": 3
   },
   "file_extension": ".py",
   "mimetype": "text/x-python",
   "name": "python",
   "nbconvert_exporter": "python",
   "pygments_lexer": "ipython3",
   "version": "3.7.5"
  }
 },
 "nbformat": 4,
 "nbformat_minor": 1
}