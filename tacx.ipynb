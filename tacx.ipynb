{
 "cells": [
  {
   "cell_type": "markdown",
   "metadata": {
    "collapsed": true,
    "pycharm": {
     "name": "#%% md\n"
    }
   },
   "source": [
    "# Introduction\n",
    "train and test data are measured with same roll resistance (lever position 3) and wheel pressure.\n"
   ]
  },
  {
   "cell_type": "markdown",
   "metadata": {},
   "source": [
    "# Analyze linearity of train vs test data\n",
    "Question: Is the velocity a good feature to predict the virtual power? To find out we create a linear/polynomial model or KNN regression model from the app data and calculate a score for each tacx cadence value to see whether the model predicts the velocity good enough.\n",
    "First let us see (plot) and calculate (relation of cadence/velocity is constant per gear)  the training data.\n",
    "\n",
    "_Train data (app data):\n",
    "* X of app data set -> cadence\n",
    "* Y -> velocity\n",
    "\n",
    "## Pre processing\n"
   ]
  },
  {
   "cell_type": "code",
   "execution_count": 219,
   "metadata": {
    "pycharm": {
     "name": "#%%\n"
    }
   },
   "outputs": [
    {
     "data": {
      "text/plain": "   DistanceMeters           Ext.Speed Ext.Watts  DistanceMeters-delta\n0         5.31240   5.312399999999999         0                   NaN\n1        11.53350              6.2211         0               6.22110\n2        17.75460              6.2211         0               6.22110\n3        23.94075             6.18615         0               6.18615\n4        30.23175               6.291         0               6.29100\n5        36.62760   6.395849999999999         0               6.39585\n6        43.02345   6.395849999999999         0               6.39585\n7        49.31445               6.291         0               6.29100\n8        55.46565              6.1512         0               6.15120\n9        61.40715  5.9415000000000004         0               5.94150",
      "text/html": "<div>\n<style scoped>\n    .dataframe tbody tr th:only-of-type {\n        vertical-align: middle;\n    }\n\n    .dataframe tbody tr th {\n        vertical-align: top;\n    }\n\n    .dataframe thead th {\n        text-align: right;\n    }\n</style>\n<table border=\"1\" class=\"dataframe\">\n  <thead>\n    <tr style=\"text-align: right;\">\n      <th></th>\n      <th>DistanceMeters</th>\n      <th>Ext.Speed</th>\n      <th>Ext.Watts</th>\n      <th>DistanceMeters-delta</th>\n    </tr>\n  </thead>\n  <tbody>\n    <tr>\n      <th>0</th>\n      <td>5.31240</td>\n      <td>5.312399999999999</td>\n      <td>0</td>\n      <td>NaN</td>\n    </tr>\n    <tr>\n      <th>1</th>\n      <td>11.53350</td>\n      <td>6.2211</td>\n      <td>0</td>\n      <td>6.22110</td>\n    </tr>\n    <tr>\n      <th>2</th>\n      <td>17.75460</td>\n      <td>6.2211</td>\n      <td>0</td>\n      <td>6.22110</td>\n    </tr>\n    <tr>\n      <th>3</th>\n      <td>23.94075</td>\n      <td>6.18615</td>\n      <td>0</td>\n      <td>6.18615</td>\n    </tr>\n    <tr>\n      <th>4</th>\n      <td>30.23175</td>\n      <td>6.291</td>\n      <td>0</td>\n      <td>6.29100</td>\n    </tr>\n    <tr>\n      <th>5</th>\n      <td>36.62760</td>\n      <td>6.395849999999999</td>\n      <td>0</td>\n      <td>6.39585</td>\n    </tr>\n    <tr>\n      <th>6</th>\n      <td>43.02345</td>\n      <td>6.395849999999999</td>\n      <td>0</td>\n      <td>6.39585</td>\n    </tr>\n    <tr>\n      <th>7</th>\n      <td>49.31445</td>\n      <td>6.291</td>\n      <td>0</td>\n      <td>6.29100</td>\n    </tr>\n    <tr>\n      <th>8</th>\n      <td>55.46565</td>\n      <td>6.1512</td>\n      <td>0</td>\n      <td>6.15120</td>\n    </tr>\n    <tr>\n      <th>9</th>\n      <td>61.40715</td>\n      <td>5.9415000000000004</td>\n      <td>0</td>\n      <td>5.94150</td>\n    </tr>\n  </tbody>\n</table>\n</div>"
     },
     "execution_count": 219,
     "metadata": {},
     "output_type": "execute_result"
    }
   ],
   "source": [
    "import pandas as pd\n",
    "import numpy as np\n",
    "from src.tcx import read_tcx\n",
    "\n",
    "tcx: dict = read_tcx('test/tcx/cadence_1612535177298-gear7.tcx')\n",
    "\n",
    "\n",
    "trackpoints: dict = tcx['TrainingCenterDatabase']['Activities']['Activity']['Lap']['Track']\n",
    "trackpoint_dict_list = list(trackpoints.values())[0]\n",
    "\n",
    "tcx_df: pd.DataFrame = pd.DataFrame.from_records(trackpoint_dict_list)\n",
    "\n",
    "tcx_df['DistanceMeters'] = tcx_df['DistanceMeters'].apply(lambda x: float(x))\n",
    "tcx_df['DistanceMeters']\n",
    "\n",
    "# print(tcx_df['Extensions'])\n",
    "tcx_df['Ext.Watts'] = [extension_dict['TPX']['Watts'] for extension_dict in tcx_df['Extensions']]\n",
    "tcx_df['Ext.Speed'] = [extension_dict['TPX']['Speed'] for extension_dict in tcx_df['Extensions']]\n",
    "\n",
    "\n",
    "tcx_df['DistanceMeters-delta'] = pd.Series(np.subtract(tcx_df['DistanceMeters'].iloc[1:].to_numpy(),tcx_df['DistanceMeters'].iloc[0:-1].to_numpy()), index=range(1, len(tcx_df)))\n",
    "\n",
    "tcx_df[['DistanceMeters', 'Ext.Speed', 'Ext.Watts', 'DistanceMeters-delta']].head(10)\n",
    "\n",
    "# df = pd.json_normalize([{'activity': {'id': 'tacx 12.11.'}}, {'activity': {'id': 'olli'}}]);\n",
    "# df"
   ]
  },
  {
   "cell_type": "markdown",
   "metadata": {},
   "source": [
    "## Linear regression"
   ]
  }
 ],
 "metadata": {
  "kernelspec": {
   "display_name": "Python 3",
   "language": "python",
   "name": "python3"
  },
  "language_info": {
   "codemirror_mode": {
    "name": "ipython",
    "version": 3
   },
   "file_extension": ".py",
   "mimetype": "text/x-python",
   "name": "python",
   "nbconvert_exporter": "python",
   "pygments_lexer": "ipython3",
   "version": "3.7.5"
  }
 },
 "nbformat": 4,
 "nbformat_minor": 1
}