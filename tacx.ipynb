{
 "cells": [
  {
   "cell_type": "markdown",
   "metadata": {
    "collapsed": true,
    "pycharm": {
     "name": "#%% md\n"
    }
   },
   "source": [
    "# Introduction\n",
    "train and test data are measured with same roll resistance (lever position 3) and wheel pressure.\n"
   ]
  },
  {
   "cell_type": "markdown",
   "metadata": {},
   "source": [
    "# Analyze linearity of train vs test data\n",
    "Question: Is the velocity a good feature to predict the virtual power? To find out we create a linear/polynomial model or KNN regression model from the app data and calculate a score for each tacx cadence value to see whether the model predicts the velocity good enough.\n",
    "First let us see (plot) and calculate (relation of cadence/velocity is constant per gear)  the training data.\n",
    "\n",
    "_Train data (app data):\n",
    "* X of app data set -> cadence\n",
    "* Y -> velocity\n",
    "\n",
    "## Pre processing\n"
   ]
  },
  {
   "cell_type": "code",
   "execution_count": 128,
   "metadata": {
    "pycharm": {
     "name": "#%%\n"
    }
   },
   "outputs": [
    {
     "data": {
      "text/plain": "       DistanceMeters  ext.speed ext.watts\n0   5.312399999999999    5.31240         0\n1             11.5335    6.22110         0\n2             17.7546    6.22110         0\n3            23.94075    6.18615         0\n4            30.23175    6.29100         0\n5             36.6276    6.39585         0\n6            43.02345    6.39585         0\n7  49.314449999999994    6.29100         0\n8            55.46565    6.15120         0\n9  61.407149999999994    5.94150         0",
      "text/html": "<div>\n<style scoped>\n    .dataframe tbody tr th:only-of-type {\n        vertical-align: middle;\n    }\n\n    .dataframe tbody tr th {\n        vertical-align: top;\n    }\n\n    .dataframe thead th {\n        text-align: right;\n    }\n</style>\n<table border=\"1\" class=\"dataframe\">\n  <thead>\n    <tr style=\"text-align: right;\">\n      <th></th>\n      <th>DistanceMeters</th>\n      <th>ext.speed</th>\n      <th>ext.watts</th>\n    </tr>\n  </thead>\n  <tbody>\n    <tr>\n      <th>0</th>\n      <td>5.312399999999999</td>\n      <td>5.31240</td>\n      <td>0</td>\n    </tr>\n    <tr>\n      <th>1</th>\n      <td>11.5335</td>\n      <td>6.22110</td>\n      <td>0</td>\n    </tr>\n    <tr>\n      <th>2</th>\n      <td>17.7546</td>\n      <td>6.22110</td>\n      <td>0</td>\n    </tr>\n    <tr>\n      <th>3</th>\n      <td>23.94075</td>\n      <td>6.18615</td>\n      <td>0</td>\n    </tr>\n    <tr>\n      <th>4</th>\n      <td>30.23175</td>\n      <td>6.29100</td>\n      <td>0</td>\n    </tr>\n    <tr>\n      <th>5</th>\n      <td>36.6276</td>\n      <td>6.39585</td>\n      <td>0</td>\n    </tr>\n    <tr>\n      <th>6</th>\n      <td>43.02345</td>\n      <td>6.39585</td>\n      <td>0</td>\n    </tr>\n    <tr>\n      <th>7</th>\n      <td>49.314449999999994</td>\n      <td>6.29100</td>\n      <td>0</td>\n    </tr>\n    <tr>\n      <th>8</th>\n      <td>55.46565</td>\n      <td>6.15120</td>\n      <td>0</td>\n    </tr>\n    <tr>\n      <th>9</th>\n      <td>61.407149999999994</td>\n      <td>5.94150</td>\n      <td>0</td>\n    </tr>\n  </tbody>\n</table>\n</div>"
     },
     "execution_count": 128,
     "metadata": {},
     "output_type": "execute_result"
    }
   ],
   "source": [
    "import pandas as pd\n",
    "from src.tcx import read_tcx\n",
    "\n",
    "tcx: dict = read_tcx('test/tcx/cadence_1612535177298-gear7.tcx')\n",
    "\n",
    "\n",
    "trackpoints: dict = tcx['TrainingCenterDatabase']['Activities']['Activity']['Lap']['Track']\n",
    "trackpoint_dict_list = list(trackpoints.values())[0]\n",
    "\n",
    "tcx_df: pd.DataFrame = pd.DataFrame.from_records(trackpoint_dict_list)\n",
    "# print(tcx_df['Extensions'])\n",
    "tcx_df['ext.watts'] = [entension_dict['TPX']['Watts'] for entension_dict in tcx_df['Extensions']]\n",
    "tcx_df['ext.speed'] = [float(entension_dict['TPX']['Speed']) for entension_dict in tcx_df['Extensions']]\n",
    "\n",
    "tcx_df[['DistanceMeters', 'ext.speed', 'ext.watts']].head(10)\n",
    "# df = pd.json_normalize([{'activity': {'id': 'tacx 12.11.'}}, {'activity': {'id': 'olli'}}]);\n",
    "# df"
   ]
  },
  {
   "cell_type": "markdown",
   "metadata": {},
   "source": [
    "## Linear regression"
   ]
  }
 ],
 "metadata": {
  "kernelspec": {
   "display_name": "Python 3",
   "language": "python",
   "name": "python3"
  },
  "language_info": {
   "codemirror_mode": {
    "name": "ipython",
    "version": 3
   },
   "file_extension": ".py",
   "mimetype": "text/x-python",
   "name": "python",
   "nbconvert_exporter": "python",
   "pygments_lexer": "ipython3",
   "version": "3.7.5"
  }
 },
 "nbformat": 4,
 "nbformat_minor": 1
}