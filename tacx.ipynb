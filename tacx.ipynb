{
 "cells": [
  {
   "cell_type": "markdown",
   "metadata": {
    "collapsed": true,
    "pycharm": {
     "name": "#%% md\n"
    }
   },
   "source": [
    "# Introduction\n",
    "train and test data are measured with same roll resistance (lever position 3) and wheel pressure.\n"
   ]
  },
  {
   "cell_type": "markdown",
   "metadata": {},
   "source": [
    "# Analyze linearity of train vs test data\n",
    "Question: Is the velocity a good feature to predict the virtual power? To find out we create a linear/polynomial model or KNN regression model from the app data and calculate a score for each tacx cadence value to see whether the model predicts the velocity good enough.\n",
    "First let us see (plot) and calculate (relation of cadence/velocity is constant per gear)  the training data.\n",
    "\n",
    "_Train data (app data):\n",
    "* X of app data set -> cadence\n",
    "* Y -> velocity\n",
    "\n",
    "## Pre processing\n"
   ]
  },
  {
   "cell_type": "code",
   "execution_count": 3,
   "metadata": {
    "pycharm": {
     "name": "#%%\n"
    }
   },
   "outputs": [
    {
     "name": "stdout",
     "output_type": "stream",
     "text": [
      "        Speed  Cadence Ext.Watts  DistanceMeters  DistanceMeters-delta  \\\n",
      "0         NaN     40.0         0         5.31240                   NaN   \n",
      "1   21.472637     40.0         0        11.53350               6.22110   \n",
      "2   21.534577     78.0         0        17.75460               6.22110   \n",
      "3   21.393026     78.0         0        23.94075               6.18615   \n",
      "4   21.651625     79.0         0        30.23175               6.29100   \n",
      "5   22.118213     81.0         0        36.62760               6.39585   \n",
      "6   22.118213     80.0         0        43.02345               6.39585   \n",
      "7   21.734741     79.0         0        49.31445               6.29100   \n",
      "8   21.130076     78.0         0        55.46565               6.15120   \n",
      "9   20.448757     76.0         0        61.40715               5.94150   \n",
      "10  19.412922     73.0         0        66.99915               5.59200   \n",
      "11  17.801290     66.0         0        72.13680               5.13765   \n",
      "12  17.663192     65.0         0        77.23950               5.10270   \n",
      "13  18.026135     66.0         0        82.44705               5.20755   \n",
      "14  18.521099     66.0         0        87.68955               5.24250   \n",
      "15  18.250548     67.0         0        92.96700               5.27745   \n",
      "16  17.871478     66.0         0        98.17455               5.20755   \n",
      "17  19.049383     70.0         0       103.83645               5.66190   \n",
      "18  20.566731     74.0         0       109.77795               5.94150   \n",
      "19  20.429226     74.0         0       115.71945               5.94150   \n",
      "\n",
      "             Ext.Speed                             Time             Time-delta  \n",
      "0    5.312399999999999 2021-02-05 14:26:17.599000+00:00                    NaT  \n",
      "1               6.2211 2021-02-05 14:26:18.642000+00:00 0 days 00:00:01.043000  \n",
      "2               6.2211 2021-02-05 14:26:19.682000+00:00 0 days 00:00:01.040000  \n",
      "3              6.18615 2021-02-05 14:26:20.723000+00:00 0 days 00:00:01.041000  \n",
      "4                6.291 2021-02-05 14:26:21.769000+00:00 0 days 00:00:01.046000  \n",
      "5    6.395849999999999 2021-02-05 14:26:22.810000+00:00 0 days 00:00:01.041000  \n",
      "6    6.395849999999999 2021-02-05 14:26:23.851000+00:00 0 days 00:00:01.041000  \n",
      "7                6.291 2021-02-05 14:26:24.893000+00:00 0 days 00:00:01.042000  \n",
      "8               6.1512 2021-02-05 14:26:25.941000+00:00 0 days 00:00:01.048000  \n",
      "9   5.9415000000000004 2021-02-05 14:26:26.987000+00:00 0 days 00:00:01.046000  \n",
      "10               5.592 2021-02-05 14:26:28.024000+00:00 0 days 00:00:01.037000  \n",
      "11             5.13765 2021-02-05 14:26:29.063000+00:00 0 days 00:00:01.039000  \n",
      "12  5.1027000000000005 2021-02-05 14:26:30.103000+00:00 0 days 00:00:01.040000  \n",
      "13  5.2075499999999995 2021-02-05 14:26:31.143000+00:00 0 days 00:00:01.040000  \n",
      "14              5.2425 2021-02-05 14:26:32.162000+00:00 0 days 00:00:01.019000  \n",
      "15             5.27745 2021-02-05 14:26:33.203000+00:00 0 days 00:00:01.041000  \n",
      "16  5.2075499999999995 2021-02-05 14:26:34.252000+00:00 0 days 00:00:01.049000  \n",
      "17              5.6619 2021-02-05 14:26:35.322000+00:00 0 days 00:00:01.070000  \n",
      "18  5.9415000000000004 2021-02-05 14:26:36.362000+00:00 0 days 00:00:01.040000  \n",
      "19  5.9415000000000004 2021-02-05 14:26:37.409000+00:00 0 days 00:00:01.047000  \n",
      "       speed-per-cadence\n",
      "count         187.000000\n",
      "mean            0.275846\n",
      "std             0.019499\n",
      "min             0.265494\n",
      "25%             0.273076\n",
      "50%             0.274223\n",
      "75%             0.275529\n",
      "max             0.536816\n",
      "       speed-per-cadence\n",
      "count         365.000000\n",
      "mean            0.290588\n",
      "std             0.034063\n",
      "min             0.023200\n",
      "25%             0.280441\n",
      "50%             0.293870\n",
      "75%             0.310666\n",
      "max             0.335039\n"
     ]
    }
   ],
   "source": [
    "import pandas as pd\n",
    "from src.tcx import read_tcx\n",
    "\n",
    "tcx_train: pd.DataFrame = read_tcx('test/tcx/cadence_1612535177298-gear7.tcx').to_dataframe()\n",
    "tcx_test: pd.DataFrame = read_tcx('test/tcx/tacx-activity_6223854228-gear7-resistance3.tcx').to_dataframe()\n",
    "\n",
    "\n",
    "print(tcx_train[['Speed', 'Cadence', 'Ext.Watts', 'DistanceMeters', 'DistanceMeters-delta', 'Ext.Speed', 'Time', 'Time-delta']].head(20))\n",
    "\n",
    "print(tcx_train[['speed-per-cadence']].describe())\n",
    "print(tcx_test[['speed-per-cadence']].describe())"
   ]
  },
  {
   "cell_type": "markdown",
   "metadata": {},
   "source": [
    "## Linear regression"
   ]
  }
 ],
 "metadata": {
  "kernelspec": {
   "display_name": "Python 3",
   "language": "python",
   "name": "python3"
  },
  "language_info": {
   "codemirror_mode": {
    "name": "ipython",
    "version": 3
   },
   "file_extension": ".py",
   "mimetype": "text/x-python",
   "name": "python",
   "nbconvert_exporter": "python",
   "pygments_lexer": "ipython3",
   "version": "3.7.5"
  }
 },
 "nbformat": 4,
 "nbformat_minor": 1
}