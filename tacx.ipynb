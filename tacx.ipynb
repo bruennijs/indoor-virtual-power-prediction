{
 "cells": [
  {
   "cell_type": "markdown",
   "metadata": {
    "collapsed": true,
    "pycharm": {
     "name": "#%% md\n"
    }
   },
   "source": [
    "# Introduction\n",
    "train and test data are measured with same roll resistance (lever position 3) and wheel pressure.\n"
   ]
  },
  {
   "cell_type": "markdown",
   "metadata": {},
   "source": [
    "# Analyze linearity of train vs test data\n",
    "Question: Is the velocity a good feature to predict the virtual power? To find out we create a linear/polynomial model or KNN regression model from the app data and calculate a score for each tacx cadence value to see whether the model predicts the velocity good enough.\n",
    "First let us see (plot) and calculate (relation of cadence/velocity is constant per gear)  the training data.\n",
    "\n",
    "_Train data (app data):\n",
    "* X of app data set -> cadence\n",
    "* Y -> velocity\n",
    "\n",
    "## Pre processing\n"
   ]
  },
  {
   "cell_type": "code",
   "execution_count": 4,
   "metadata": {
    "pycharm": {
     "name": "#%%\n"
    }
   },
   "outputs": [
    {
     "name": "stdout",
     "output_type": "stream",
     "text": [
      "       DistanceMeters  DistanceMeters-delta                 Time-delta  \\\n",
      "count      188.000000            187.000000                        187   \n",
      "mean       630.537784              7.165124  0 days 00:00:01.041647058   \n",
      "std        392.070789              0.896864  0 days 00:00:00.006815031   \n",
      "min          5.312400              5.102700     0 days 00:00:01.007000   \n",
      "25%        281.129063              6.640500     0 days 00:00:01.040000   \n",
      "50%        611.275500              7.304550     0 days 00:00:01.041000   \n",
      "75%        961.727888              7.793850     0 days 00:00:01.044000   \n",
      "max       1345.190550              8.737500     0 days 00:00:01.073000   \n",
      "\n",
      "            Speed  Speed-per-cadence  \n",
      "count  187.000000         187.000000  \n",
      "mean    24.765209           0.275846  \n",
      "std      3.113125           0.019499  \n",
      "min     17.663192           0.265494  \n",
      "25%     22.969182           0.273076  \n",
      "50%     25.260692           0.274223  \n",
      "75%     26.965729           0.275529  \n",
      "max     30.303468           0.536816  \n",
      "       DistanceMeters  DistanceMeters-delta       Time-delta       Speed  \\\n",
      "count      368.000000            367.000000              367  367.000000   \n",
      "mean      1188.007664              7.071690  0 days 00:00:01   25.458082   \n",
      "std        776.031499              1.311113  0 days 00:00:00    4.720005   \n",
      "min          0.000000              0.000000  0 days 00:00:01    0.000000   \n",
      "25%        499.037491              6.785004  0 days 00:00:01   24.426013   \n",
      "50%       1151.505005              7.369995  0 days 00:00:01   26.531982   \n",
      "75%       1851.574951              7.839966  0 days 00:00:01   28.223877   \n",
      "max       2595.310059              8.530029  0 days 00:00:01   30.708105   \n",
      "\n",
      "       Speed-per-cadence  \n",
      "count         365.000000  \n",
      "mean            0.290588  \n",
      "std             0.034063  \n",
      "min             0.023200  \n",
      "25%             0.280441  \n",
      "50%             0.293870  \n",
      "75%             0.310666  \n",
      "max             0.335039  \n"
     ]
    }
   ],
   "source": [
    "import pandas as pd\n",
    "from src.tcx import read_tcx\n",
    "\n",
    "tcx_train: pd.DataFrame = read_tcx('test/tcx/cadence_1612535177298-gear7.tcx').to_dataframe()\n",
    "tcx_test: pd.DataFrame = read_tcx('test/tcx/tacx-activity_6223854228-gear7-resistance3.tcx').to_dataframe()\n",
    "\n",
    "\n",
    "tcx_train[['Speed', 'Cadence', 'Ext.Watts', 'DistanceMeters', 'DistanceMeters-delta', 'Ext.Speed', 'Time', 'Time-delta']].head(20)\n",
    "\n",
    "print(tcx_train.describe())\n",
    "\n",
    "print(tcx_test.describe())\n",
    "\n",
    "# df = pd.json_normalize([{'activity': {'id': 'tacx 12.11.'}}, {'activity': {'id': 'olli'}}]);\n",
    "# df"
   ]
  },
  {
   "cell_type": "markdown",
   "metadata": {},
   "source": [
    "## Linear regression"
   ]
  }
 ],
 "metadata": {
  "kernelspec": {
   "display_name": "Python 3",
   "language": "python",
   "name": "python3"
  },
  "language_info": {
   "codemirror_mode": {
    "name": "ipython",
    "version": 3
   },
   "file_extension": ".py",
   "mimetype": "text/x-python",
   "name": "python",
   "nbconvert_exporter": "python",
   "pygments_lexer": "ipython3",
   "version": "3.7.5"
  }
 },
 "nbformat": 4,
 "nbformat_minor": 1
}