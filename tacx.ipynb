{
 "cells": [
  {
   "cell_type": "markdown",
   "metadata": {
    "collapsed": true,
    "pycharm": {
     "name": "#%% md\n"
    }
   },
   "source": [
    "# Introduction\n",
    "train and test data are measured with same roll resistance (lever position 3) and wheel pressure.\n"
   ]
  },
  {
   "cell_type": "markdown",
   "metadata": {},
   "source": [
    "# Analyze\n",
    "Question: Which features and model is good enough to be predict virtual power?\n",
    "\n",
    "_Train data (app data):\n",
    "* X of app data set -> cadence\n",
    "* Y -> velocity\n",
    "\n",
    "## Pre processing\n"
   ]
  },
  {
   "cell_type": "code",
   "execution_count": 11,
   "metadata": {
    "pycharm": {
     "name": "#%%\n"
    }
   },
   "outputs": [
    {
     "name": "stdout",
     "output_type": "stream",
     "text": [
      "           count        mean        std    min     25%    50%     75%    max\n",
      "speed_int                                                                   \n",
      "22           2.0  100.500000  21.920310   85.0   92.75  100.5  108.25  116.0\n",
      "23           8.0   85.000000   2.878492   81.0   84.00   85.0   86.50   89.0\n",
      "24          89.0   86.325843   5.961573   72.0   84.00   86.0   89.00  100.0\n",
      "25          44.0   98.250000   9.983999   72.0   98.00  100.0  105.25  112.0\n",
      "26          83.0  103.180723   9.753229   82.0  100.00  102.0  112.00  124.0\n",
      "27         109.0  115.798165   7.678469   81.0  112.00  116.0  120.00  139.0\n",
      "28          63.0  126.571429   7.572689  105.0  122.00  124.0  132.00  148.0\n",
      "29          39.0  138.666667  12.103356  122.0  124.50  142.0  149.50  153.0\n",
      "30          10.0  145.600000   9.070097  124.0  146.00  149.5  150.75  152.0\n"
     ]
    }
   ],
   "source": [
    "import pandas as pd\n",
    "\n",
    "from src.tcx import read_tcx, Tcx, COLUMN_NAME_SPEED, COLUMN_NAME_WATTS\n",
    "from src.test_data import TrainDataSet\n",
    "\n",
    "tcx_app: Tcx = read_tcx('test/tcx/cadence_1612535177298-gear7.tcx')\n",
    "tcx_tacx: Tcx = read_tcx('test/tcx/tacx-activity_6225123072-gear7-resistance3.tcx')\n",
    "tcx_tacx_gear20: Tcx = read_tcx('test/tcx/tacx-activity_6225123072-gear7-resistance3.tcx')\n",
    "\n",
    "# generate test data\n",
    "dts_tacx: TrainDataSet = TrainDataSet(tcx_tacx)\n",
    "\n",
    "def print_stats(df: pd.DataFrame):\n",
    "\n",
    "    #print(df[['Speed', 'Cadence', 'Ext.Watts', 'DistanceMeters', 'DistanceMeters-delta', 'Ext.Speed', 'Time', 'Time-delta']].head(100))\n",
    "\n",
    "    # print(df[[COLUMN_NAME_SPEED]].describe())\n",
    "    print(df\n",
    "          .assign(speed_int=lambda x: x[COLUMN_NAME_SPEED].apply(lambda x : int(x)))\n",
    "          .groupby(by=['speed_int'])[COLUMN_NAME_WATTS].describe())\n",
    "\n",
    "print_stats(dts_tacx.get_dataframe())"
   ]
  },
  {
   "cell_type": "markdown",
   "metadata": {},
   "source": [
    "## Linear regression\n",
    "To find out we create a linear model from the tacx data with differetn features and calculate a score for each tacx cadence value to see whether the model predicts the velocity good enough.\n",
    "\n",
    "### Cadence\n",
    "_X_ = [cadence], _y_ = power"
   ]
  },
  {
   "cell_type": "code",
   "execution_count": 10,
   "outputs": [
    {
     "ename": "NameError",
     "evalue": "name 'X' is not defined",
     "output_type": "error",
     "traceback": [
      "\u001B[0;31m---------------------------------------------------------------------------\u001B[0m",
      "\u001B[0;31mNameError\u001B[0m                                 Traceback (most recent call last)",
      "\u001B[0;32m<ipython-input-10-3d6bb348a474>\u001B[0m in \u001B[0;36m<module>\u001B[0;34m\u001B[0m\n\u001B[1;32m      5\u001B[0m \u001B[0;32mfrom\u001B[0m \u001B[0msklearn\u001B[0m\u001B[0;34m.\u001B[0m\u001B[0mmetrics\u001B[0m \u001B[0;32mimport\u001B[0m \u001B[0mmax_error\u001B[0m\u001B[0;34m,\u001B[0m \u001B[0mmean_squared_error\u001B[0m\u001B[0;34m\u001B[0m\u001B[0;34m\u001B[0m\u001B[0m\n\u001B[1;32m      6\u001B[0m \u001B[0;34m\u001B[0m\u001B[0m\n\u001B[0;32m----> 7\u001B[0;31m \u001B[0mX_train\u001B[0m\u001B[0;34m,\u001B[0m \u001B[0mX_test\u001B[0m\u001B[0;34m,\u001B[0m \u001B[0my_train\u001B[0m\u001B[0;34m,\u001B[0m \u001B[0my_test\u001B[0m \u001B[0;34m=\u001B[0m \u001B[0mtrain_test_split\u001B[0m\u001B[0;34m(\u001B[0m\u001B[0mX\u001B[0m\u001B[0;34m,\u001B[0m \u001B[0my\u001B[0m\u001B[0;34m,\u001B[0m \u001B[0mtrain_size\u001B[0m\u001B[0;34m=\u001B[0m\u001B[0;36m0.8\u001B[0m\u001B[0;34m,\u001B[0m \u001B[0mrandom_state\u001B[0m\u001B[0;34m=\u001B[0m\u001B[0;36m7\u001B[0m\u001B[0;34m)\u001B[0m\u001B[0;34m\u001B[0m\u001B[0;34m\u001B[0m\u001B[0m\n\u001B[0m\u001B[1;32m      8\u001B[0m \u001B[0;34m\u001B[0m\u001B[0m\n\u001B[1;32m      9\u001B[0m \u001B[0;31m# train\u001B[0m\u001B[0;34m\u001B[0m\u001B[0;34m\u001B[0m\u001B[0;34m\u001B[0m\u001B[0m\n",
      "\u001B[0;31mNameError\u001B[0m: name 'X' is not defined"
     ]
    }
   ],
   "source": [
    "from math import sqrt\n",
    "\n",
    "from sklearn.linear_model import LinearRegression\n",
    "from sklearn.model_selection import train_test_split, cross_val_score\n",
    "from sklearn.metrics import max_error, mean_squared_error\n",
    "\n",
    "X_train, X_test, y_train, y_test = train_test_split(X, y, train_size=0.8, random_state=7)\n",
    "\n",
    "# train\n",
    "alg: LinearRegression = LinearRegression().fit(X_train, y_train)\n",
    "\n",
    "# test\n",
    "X_train_np = X_train.to_numpy()\n",
    "y_train_np = y_train.to_numpy()\n",
    "y_predicted = alg.predict(X_test)\n",
    "\n",
    "print(\"Shape X_train/X_test: {}/{}\".format(X_train.shape, X_test.shape))\n",
    "# Score on X_test\n",
    "print(\"Error R²: {:.2f}\".format(alg.score(X_test, y_test)))\n",
    "mse = mean_squared_error(y_test.to_numpy(), y_predicted)\n",
    "print(\"MSE error (mean squared error / variance): {:.2f}\".format(mse))\n",
    "print(\"sqrt(MSE) (standard deviation): {:.2f}\".format(sqrt(mse)))\n",
    "print(\"Max error: {}\".format(max_error(y_test, y_predicted)))\n",
    "\n",
    "# cross k-fold validation (k=5)\n",
    "scores: list = cross_val_score(alg, X_test.to_numpy(), y_test.to_numpy(), cv=5)\n",
    "print(\"Cross validation: {}\".format(scores))\n",
    "\n",
    "# max error y_test <-> y_predict"
   ],
   "metadata": {
    "collapsed": false,
    "pycharm": {
     "name": "#%%\n"
    }
   }
  },
  {
   "cell_type": "code",
   "execution_count": null,
   "outputs": [],
   "source": [
    "import numpy as np\n",
    "import matplotlib.pyplot as plt\n",
    "\n",
    "# Plot X_train -> y_train\n",
    "plt.scatter(X_train, y_train,  color='black')\n",
    "plt.plot(X_train, alg.predict(X_train), color='blue', linewidth=2)\n",
    "\n",
    "plt.xticks()\n",
    "plt.yticks()\n",
    "plt.show()\n",
    "\n",
    "# Plot histogram of absolute error of |y_test - y_predicted|\n",
    "plt.hist(y_test - y_predicted, 40, density=True, facecolor='g', alpha=0.75)\n",
    "plt.show()\n",
    "\n",
    "\n"
   ],
   "metadata": {
    "collapsed": false,
    "pycharm": {
     "name": "#%%\n"
    }
   }
  }
 ],
 "metadata": {
  "kernelspec": {
   "display_name": "Python 3",
   "language": "python",
   "name": "python3"
  },
  "language_info": {
   "codemirror_mode": {
    "name": "ipython",
    "version": 3
   },
   "file_extension": ".py",
   "mimetype": "text/x-python",
   "name": "python",
   "nbconvert_exporter": "python",
   "pygments_lexer": "ipython3",
   "version": "3.7.5"
  }
 },
 "nbformat": 4,
 "nbformat_minor": 1
}