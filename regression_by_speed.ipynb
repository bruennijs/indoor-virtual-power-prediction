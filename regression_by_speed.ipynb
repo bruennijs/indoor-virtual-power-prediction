{
 "cells": [
  {
   "cell_type": "markdown",
   "metadata": {
    "collapsed": true,
    "pycharm": {
     "name": "#%% md\n"
    }
   },
   "source": [
    "# Introduction\n",
    "The bike has 20 gears with a linear relationship of speed to power independently of the selected gear. So the observed speed of the app can predict the power in any gear. The advantage of this method is that gear changes does not have the need for switching to a different model.\n",
    "\n",
    "Presumption: the trainer resistance never changes.\n"
   ]
  },
  {
   "cell_type": "markdown",
   "metadata": {},
   "source": [
    "# Problem\n",
    "Question: Find a model that predicts the Speed-by-app -> Power-by-tacx and how can we correlate each possible observing speed value with a correct power value?\n",
    "\n",
    "# Solutione\n",
    "Use two data sets of the same gear for tacx and app data and correlate an observation of the app with a observation in the tacx data set  by cadence. Cause cadence could a decimal value use a nearest neighbor regressor for each cadence/speed value in the app data.\n",
    "\n",
    "1. Train Radius nearest neighbor regressor with distance of 0.5 so use the cadence value minus 0.5 and plus 0.5 rpm using tacx X [Cadence] -> y [power]\n",
    "2. Predict power by using app's data X [cadence].\n",
    "3. Create a linear model with app's data speed to predicted power values"
   ]
  },
  {
   "cell_type": "code",
   "execution_count": 5,
   "outputs": [
    {
     "data": {
      "text/plain": "<Figure size 432x288 with 1 Axes>",
      "image/png": "[encoded data removed]"
     },
     "metadata": {
      "needs_background": "light"
     },
     "output_type": "display_data"
    }
   ],
   "source": [
    "import numpy as np\n",
    "import pandas as pd\n",
    "from sklearn.linear_model import LinearRegression\n",
    "from sklearn.model_selection import train_test_split\n",
    "from sklearn.neighbors import RadiusNeighborsRegressor, KNeighborsRegressor\n",
    "from sklearn.pipeline import Pipeline\n",
    "from src.power_by_speed.regression import create_pipeline\n",
    "from src.validation.regression import validate_lin_reg\n",
    "\n",
    "from src.tcx import Tcx, COLUMN_NAME_SPEED, COLUMN_NAME_WATTS, COLUMN_NAME_CADENCE, COLUMN_NAME_ACCELERATION, COLUMN_NAME_CADENCE_RATE\n",
    "from src.test_data import TrainDataSet\n",
    "from src.visu import plot2d, show\n",
    "\n",
    "COLUMN_NAME_SPEED_APP = \"speed-app\"\n",
    "\n",
    "tcx_app_gear7: Tcx = Tcx.read_tcx(file_path='test/tcx/cadence_1612535177298-gear7.tcx')\n",
    "tcx_tacx_gear7: Tcx = Tcx.read_tcx(file_path='test/tcx/tacx-activity_6225123072-gear7-resistance3.tcx')\n",
    "tcx_tacx_gear20: Tcx = Tcx.read_tcx(file_path='test/tcx/tacx-activity_6225123072-gear7-resistance3.tcx')\n",
    "\n",
    "# generate test data\n",
    "dts_app_gear7: TrainDataSet = TrainDataSet(tcx_app_gear7)\n",
    "dts_tacx_gear7: TrainDataSet = TrainDataSet(tcx_tacx_gear7)\n",
    "df_tacx_gear7 = dts_tacx_gear7.get_dataframe()\n",
    "df_app_gear7 = dts_app_gear7.get_dataframe()\n",
    "\n",
    "pipeline: Pipeline = create_pipeline(tcx_app_filename='test/tcx/cadence_1612535177298-gear7.tcx')\n",
    "\n",
    "# app's speed -> power correlation (pipeline transformation)\n",
    "X_train_transformed: pd.DataFrame = pipeline[0:2].fit_transform(X=df_tacx_gear7, y=df_tacx_gear7[[COLUMN_NAME_WATTS]])\n",
    "\n",
    "plot2d(X_train_transformed.iloc[:,0], df_tacx_gear7[COLUMN_NAME_WATTS], legend_label='speed of app', point_color='g')\n",
    "show()\n",
    "\n",
    "\n"
   ],
   "metadata": {
    "collapsed": false,
    "pycharm": {
     "name": "#%%\n"
    }
   }
  }
 ],
 "metadata": {
  "kernelspec": {
   "display_name": "Python 3",
   "language": "python",
   "name": "python3"
  },
  "language_info": {
   "codemirror_mode": {
    "name": "ipython",
    "version": 3
   },
   "file_extension": ".py",
   "mimetype": "text/x-python",
   "name": "python",
   "nbconvert_exporter": "python",
   "pygments_lexer": "ipython3",
   "version": "3.7.5"
  }
 },
 "nbformat": 4,
 "nbformat_minor": 1
}