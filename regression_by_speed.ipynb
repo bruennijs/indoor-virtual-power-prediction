{
 "cells": [
  {
   "cell_type": "markdown",
   "metadata": {
    "collapsed": true,
    "pycharm": {
     "name": "#%% md\n"
    }
   },
   "source": [
    "# Introduction\n",
    "The bike has 20 gears but the power has a linear relationship to the speed. The cadence doesn't matter. So the observed speed could be as as a feature with a linear model of any tacx data set (data sets of any gear).\n"
   ]
  },
  {
   "cell_type": "markdown",
   "metadata": {},
   "source": [
    "# Problem\n",
    "Question: The tacx data set has a high standard deviation of the speed for each power value. The reason is that the tacx app adjusts speed non-linear to cadence. Means there is a delay if cadence changes to simulate that the bike isstill rolling if you stop pedaling).\n",
    "\n",
    "# Solution\n",
    "The idea is to\n",
    "\n",
    "1. _find the cluster of oberservations of equal and constant gear ratio_. These are the data points which were measured after the speed adjusted to the current cadence and could be used.\n",
    "2. Scale with min-max of tacx and app data\n",
    "3. Train linear model with data of found cluster\n",
    "4. Test linear model with app data oberservations"
   ]
  },
  {
   "cell_type": "code",
   "execution_count": 91,
   "outputs": [],
   "source": [
    "import pandas as pd\n",
    "\n",
    "from src.tcx import Tcx, COLUMN_NAME_SPEED, COLUMN_NAME_WATTS, COLUMN_NAME_CADENCE\n",
    "from src.test_data import TrainDataSet\n",
    "\n",
    "tcx_app_gear7: Tcx = Tcx.read_tcx(file_path='test/tcx/cadence_1612535177298-gear7.tcx')\n",
    "tcx_app_gear20: Tcx = Tcx.read_tcx(file_path='test/tcx/cadence_1612535671464-gear20.tcx')\n",
    "tcx_tacx_gear7: Tcx = Tcx.read_tcx(file_path='test/tcx/tacx-activity_6225123072-gear7-resistance3.tcx')\n",
    "tcx_tacx_gear20: Tcx = Tcx.read_tcx(file_path='test/tcx/tacx-activity_6225123072-gear7-resistance3.tcx')\n",
    "\n",
    "# generate test data\n",
    "dts_gear7: TrainDataSet = TrainDataSet(tcx_app_gear7)\n",
    "dts_gear20: TrainDataSet = TrainDataSet(tcx_app_gear20)\n",
    "dts_tacx_gear7: TrainDataSet = TrainDataSet(tcx_tacx_gear7)"
   ],
   "metadata": {
    "collapsed": false,
    "pycharm": {
     "name": "#%%\n"
    }
   }
  },
  {
   "cell_type": "markdown",
   "source": [
    "## Find cluster\n",
    "Add feature of gear ratio and to analyze clusters"
   ],
   "metadata": {
    "collapsed": false,
    "pycharm": {
     "name": "#%% md\n"
    }
   }
  },
  {
   "cell_type": "code",
   "execution_count": 92,
   "outputs": [
    {
     "data": {
      "text/plain": "<Figure size 432x288 with 1 Axes>",
      "image/png": "[encoded data removed]"
     },
     "metadata": {
      "needs_background": "light"
     },
     "output_type": "display_data"
    },
    {
     "name": "stdout",
     "output_type": "stream",
     "text": [
      "IntervalIndex([(0.2654943818248933, 0.2757457912717846], (0.2757457912717846, 0.2759457912717846], (0.2759457912717846, 0.5368159156279964]],\n",
      "              closed='right',\n",
      "              dtype='interval[float64]')\n",
      "1      (0.2759457912717846, 0.5368159156279964]\n",
      "2      (0.2759457912717846, 0.5368159156279964]\n",
      "3      (0.2654943818248933, 0.2757457912717846]\n",
      "4      (0.2654943818248933, 0.2757457912717846]\n",
      "5      (0.2654943818248933, 0.2757457912717846]\n",
      "                         ...                   \n",
      "183    (0.2654943818248933, 0.2757457912717846]\n",
      "184    (0.2654943818248933, 0.2757457912717846]\n",
      "185    (0.2654943818248933, 0.2757457912717846]\n",
      "186    (0.2654943818248933, 0.2757457912717846]\n",
      "187    (0.2759457912717846, 0.5368159156279964]\n",
      "Name: gear-ratio, Length: 187, dtype: category\n",
      "Categories (3, interval[float64]): [(0.2654943818248933, 0.2757457912717846] < (0.2757457912717846, 0.2759457912717846] < (0.2759457912717846, 0.5368159156279964]]\n",
      "       DistanceMeters     Cadence  Ext.Watts  Ext.Speed  DistanceMeters-delta  \\\n",
      "count       35.000000   35.000000       35.0  35.000000             35.000000   \n",
      "mean       567.451196   86.514286        0.0   7.019957              7.019957   \n",
      "std        421.389834   14.785469        0.0   0.947910              0.947910   \n",
      "min         11.533500   40.000000        0.0   5.242500              5.242500   \n",
      "25%        197.187900   74.000000        0.0   6.221100              6.221100   \n",
      "50%        534.140850   92.000000        0.0   7.339500              7.339500   \n",
      "75%        979.316475   98.500000        0.0   7.828800              7.828800   \n",
      "max       1345.190550  106.000000        0.0   8.457900              8.457900   \n",
      "\n",
      "                      Time-delta      Speed  speed-per-cadence  gear-ratio  \n",
      "count                         35  35.000000          35.000000   35.000000  \n",
      "mean   0 days 00:00:01.036114285  24.405745           0.286253    0.286253  \n",
      "std    0 days 00:00:00.009600157   3.405574           0.043908    0.043908  \n",
      "min       0 days 00:00:01.007000  18.521099           0.275967    0.275967  \n",
      "25%       0 days 00:00:01.033500  21.503607           0.276336    0.276336  \n",
      "50%       0 days 00:00:01.039000  25.405962           0.276951    0.276951  \n",
      "75%       0 days 00:00:01.040000  27.296777           0.278796    0.278796  \n",
      "max       0 days 00:00:01.062000  29.418783           0.536816    0.536816  \n"
     ]
    },
    {
     "data": {
      "text/plain": "<Figure size 432x288 with 1 Axes>",
      "image/png": "[encoded data removed]"
     },
     "metadata": {
      "needs_background": "light"
     },
     "output_type": "display_data"
    }
   ],
   "source": [
    "from pandas import DataFrame, Series\n",
    "import matplotlib.pyplot as plt\n",
    "\n",
    "from src.visu import plot2d\n",
    "from src.test_data import COLUMN_NAME_GEAR_RATIO\n",
    "\n",
    "df_gear7 = dts_tacx_gear7.get_dataframe()\n",
    "gear_ratio_: Series = df_gear7[COLUMN_NAME_GEAR_RATIO]\n",
    "\n",
    "plot2d(df_gear7[COLUMN_NAME_SPEED], gear_ratio_, legend_label='tacx (gear 7)')\n",
    "plt.show()\n",
    "\n",
    "# bin gear-ration categories: bin ration find ratio where most of the data points are in\n",
    "c_intervals: pd.IntervalIndex = pd.IntervalIndex.from_breaks([gear_ratio_.min(), gear_ratio_.mean() - 0.03, gear_ratio_.mean() + 0.03,gear_ratio_.max()])\n",
    "\n",
    "print (c_intervals)\n",
    "\n",
    "bins: Series = pd.cut(gear_ratio_, bins=c_intervals)\n",
    "\n",
    "print(bins)\n",
    "#print(bins.cat.categories)\n",
    "\n",
    "# get rows of caegory (gear_ratio_.mean() - 0.02, gear_ratio_.mean() + 0.02]\n",
    "df_gear_ratio_const = df_gear7[bins == c_intervals[2]]\n",
    "print(df_gear_ratio_const.describe())\n",
    "plot2d(df_gear_ratio_const[COLUMN_NAME_CADENCE], df_gear_ratio_const[COLUMN_NAME_SPEED], legend_label=\"tacx minimal gear ratio deviation (gear 7)\")"
   ],
   "metadata": {
    "collapsed": false,
    "pycharm": {
     "name": "#%%\n"
    }
   }
  },
  {
   "cell_type": "markdown",
   "source": [
    "## Scaling"
   ],
   "metadata": {
    "collapsed": false
   }
  },
  {
   "cell_type": "code",
   "execution_count": 93,
   "outputs": [
    {
     "data": {
      "text/plain": "<Figure size 432x288 with 1 Axes>",
      "image/png": "[encoded data removed]"
     },
     "metadata": {
      "needs_background": "light"
     },
     "output_type": "display_data"
    },
    {
     "ename": "TypeError",
     "evalue": "'Series' object is not callable",
     "output_type": "error",
     "traceback": [
      "\u001B[0;31m---------------------------------------------------------------------------\u001B[0m",
      "\u001B[0;31mTypeError\u001B[0m                                 Traceback (most recent call last)",
      "\u001B[0;32m<ipython-input-93-ca3d7ee6bd43>\u001B[0m in \u001B[0;36m<module>\u001B[0;34m\u001B[0m\n\u001B[1;32m     11\u001B[0m \u001B[0mplt\u001B[0m\u001B[0;34m.\u001B[0m\u001B[0mshow\u001B[0m\u001B[0;34m(\u001B[0m\u001B[0;34m)\u001B[0m\u001B[0;34m\u001B[0m\u001B[0;34m\u001B[0m\u001B[0m\n\u001B[1;32m     12\u001B[0m \u001B[0;34m\u001B[0m\u001B[0m\n\u001B[0;32m---> 13\u001B[0;31m \u001B[0mX\u001B[0m\u001B[0;34m,\u001B[0m \u001B[0my\u001B[0m \u001B[0;34m=\u001B[0m \u001B[0mdts_tacx_gear7\u001B[0m\u001B[0;34m.\u001B[0m\u001B[0mspeed_to_power\u001B[0m\u001B[0;34m(\u001B[0m\u001B[0;34m)\u001B[0m\u001B[0;34m\u001B[0m\u001B[0;34m\u001B[0m\u001B[0m\n\u001B[0m\u001B[1;32m     14\u001B[0m \u001B[0;31m# X_scaled, y_scaled = scale(X, y)\u001B[0m\u001B[0;34m\u001B[0m\u001B[0;34m\u001B[0m\u001B[0;34m\u001B[0m\u001B[0m\n\u001B[1;32m     15\u001B[0m \u001B[0mplot2d\u001B[0m\u001B[0;34m(\u001B[0m\u001B[0mX\u001B[0m\u001B[0;34m.\u001B[0m\u001B[0miloc\u001B[0m\u001B[0;34m[\u001B[0m\u001B[0;34m:\u001B[0m\u001B[0;34m,\u001B[0m \u001B[0;36m0\u001B[0m\u001B[0;34m]\u001B[0m\u001B[0;34m,\u001B[0m \u001B[0my\u001B[0m \u001B[0;34m,\u001B[0m \u001B[0mpoint_color\u001B[0m\u001B[0;34m=\u001B[0m\u001B[0;34m'black'\u001B[0m\u001B[0;34m,\u001B[0m \u001B[0mlegend_label\u001B[0m\u001B[0;34m=\u001B[0m\u001B[0;34m'gear 7 (tacx)'\u001B[0m\u001B[0;34m)\u001B[0m\u001B[0;34m\u001B[0m\u001B[0;34m\u001B[0m\u001B[0m\n",
      "\u001B[0;32m/usr/local/src/git/github/bruennijs/indoor-virtual-power-prediction/src/test_data.py\u001B[0m in \u001B[0;36mspeed_to_power\u001B[0;34m(self)\u001B[0m\n\u001B[1;32m     24\u001B[0m \u001B[0;34m\u001B[0m\u001B[0m\n\u001B[1;32m     25\u001B[0m     \u001B[0;32mdef\u001B[0m \u001B[0mspeed_to_power\u001B[0m\u001B[0;34m(\u001B[0m\u001B[0mself\u001B[0m\u001B[0;34m)\u001B[0m \u001B[0;34m->\u001B[0m \u001B[0mtuple\u001B[0m\u001B[0;34m:\u001B[0m\u001B[0;34m\u001B[0m\u001B[0;34m\u001B[0m\u001B[0m\n\u001B[0;32m---> 26\u001B[0;31m         \u001B[0;32mreturn\u001B[0m \u001B[0;34m(\u001B[0m\u001B[0mDataFrame\u001B[0m\u001B[0;34m(\u001B[0m\u001B[0mdata\u001B[0m\u001B[0;34m=\u001B[0m\u001B[0;34m{\u001B[0m\u001B[0mtcx\u001B[0m\u001B[0;34m.\u001B[0m\u001B[0mCOLUMN_NAME_SPEED\u001B[0m\u001B[0;34m:\u001B[0m \u001B[0mself\u001B[0m\u001B[0;34m.\u001B[0m\u001B[0mdf\u001B[0m\u001B[0;34m[\u001B[0m\u001B[0mtcx\u001B[0m\u001B[0;34m.\u001B[0m\u001B[0mCOLUMN_NAME_SPEED\u001B[0m\u001B[0;34m]\u001B[0m\u001B[0;34m}\u001B[0m\u001B[0;34m)\u001B[0m\u001B[0;34m,\u001B[0m \u001B[0mself\u001B[0m\u001B[0;34m.\u001B[0m\u001B[0m_power\u001B[0m\u001B[0;34m(\u001B[0m\u001B[0;34m)\u001B[0m\u001B[0;34m)\u001B[0m\u001B[0;34m\u001B[0m\u001B[0;34m\u001B[0m\u001B[0m\n\u001B[0m\u001B[1;32m     27\u001B[0m \u001B[0;34m\u001B[0m\u001B[0m\n\u001B[1;32m     28\u001B[0m     \u001B[0;32mdef\u001B[0m \u001B[0mcadence_speed_to_power\u001B[0m\u001B[0;34m(\u001B[0m\u001B[0mself\u001B[0m\u001B[0;34m)\u001B[0m \u001B[0;34m->\u001B[0m \u001B[0mtuple\u001B[0m\u001B[0;34m:\u001B[0m\u001B[0;34m\u001B[0m\u001B[0;34m\u001B[0m\u001B[0m\n",
      "\u001B[0;31mTypeError\u001B[0m: 'Series' object is not callable"
     ]
    }
   ],
   "source": [
    "import matplotlib.pyplot as plt\n",
    "from sklearn.preprocessing import MinMaxScaler\n",
    "from src.visu import plot2d\n",
    "\n",
    "def scale(*args: pd.Series):\n",
    "    return (MinMaxScaler().fit_transform(X) for X in args)\n",
    "\n",
    "X, y = dts_gear7.cadence_to_speed()\n",
    "# X_scaled, y_scaled = scale(X, y)\n",
    "plot2d(y, X.iloc[:, 0], point_color='black', legend_label='gear 7 (app)')\n",
    "plt.show()\n",
    "\n",
    "X, y = dts_tacx_gear7.speed_to_power()\n",
    "# X_scaled, y_scaled = scale(X, y)\n",
    "plot2d(X.iloc[:, 0], y , point_color='black', legend_label='gear 7 (tacx)')\n",
    "plt.show()"
   ],
   "metadata": {
    "collapsed": false,
    "pycharm": {
     "name": "#%%\n"
    }
   }
  },
  {
   "cell_type": "markdown",
   "source": [
    "## Train linear model\n",
    "\n"
   ],
   "metadata": {
    "collapsed": false
   }
  },
  {
   "cell_type": "markdown",
   "metadata": {},
   "source": [
    "## Linear regression\n",
    "To find out we create a linear model from the tacx data with different features and calculate a score for each tacx cadence value to see whether the model predicts the velocity good enough.\n",
    "\n",
    "### Cadence\n",
    "_X_ = [cadence], _y_ = power"
   ]
  },
  {
   "cell_type": "code",
   "execution_count": null,
   "outputs": [],
   "source": [
    "import matplotlib.pyplot as plt\n",
    "from src.visu import plot2d\n",
    "\n",
    "\n",
    "X, y = dts_gear7.cadence_to_speed()\n",
    "plot2d(y, X.iloc[:,0], legend_label='gear 7 (app)')\n",
    "X, y = dts_gear20.cadence_to_speed()\n",
    "plot2d(y, X.iloc[:,0], point_color='green', legend_label='gear 20 (app)')\n",
    "\n",
    "X, y = dts_tacx_gear7.cadence_to_speed()\n",
    "plot2d(y, X.iloc[:,0], point_color='red', legend_label='gear 7 (tacx)')\n",
    "plt.show()\n"
   ],
   "metadata": {
    "collapsed": false,
    "pycharm": {
     "name": "#%%\n"
    }
   }
  },
  {
   "cell_type": "markdown",
   "source": [
    "# Find X(cad/speed) in tacx in cluster of X(cad/speed) in app data"
   ],
   "metadata": {
    "collapsed": false
   }
  },
  {
   "cell_type": "code",
   "execution_count": null,
   "outputs": [],
   "source": [
    "import matplotlib.pyplot as plt\n",
    "\n",
    "X, y = dts_gear7.cadence_to_externalspeed()\n",
    "plot2d(X.iloc[:, 0], y, point_color='black', legend_label='gear 7 (app)')\n",
    "X, y = dts_tacx_gear7.cadence_to_externalspeed()\n",
    "plot2d(X.iloc[:, 0], y, point_color='red', legend_label='gear 7 (tacx)')\n",
    "plt.show()\n",
    "\n",
    "\n"
   ],
   "metadata": {
    "collapsed": false,
    "pycharm": {
     "name": "#%%\n"
    }
   }
  }
 ],
 "metadata": {
  "kernelspec": {
   "display_name": "Python 3",
   "language": "python",
   "name": "python3"
  },
  "language_info": {
   "codemirror_mode": {
    "name": "ipython",
    "version": 3
   },
   "file_extension": ".py",
   "mimetype": "text/x-python",
   "name": "python",
   "nbconvert_exporter": "python",
   "pygments_lexer": "ipython3",
   "version": "3.7.5"
  }
 },
 "nbformat": 4,
 "nbformat_minor": 1
}